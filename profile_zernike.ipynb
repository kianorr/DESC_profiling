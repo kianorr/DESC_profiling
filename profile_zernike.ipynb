{
 "cells": [
  {
   "cell_type": "code",
   "execution_count": null,
   "metadata": {},
   "outputs": [],
   "source": [
    "from zernike_algos import (\n",
    "    ZernikePolynomial,\n",
    "    zernike_radial,\n",
    "    zernike_radial_optimized,\n",
    ")\n",
    "import numpy as np"
   ]
  },
  {
   "cell_type": "code",
   "execution_count": null,
   "metadata": {},
   "outputs": [],
   "source": [
    "basis = ZernikePolynomial(L=50, M=50, spectral_indexing=\"ansi\", sym=\"cos\")\n",
    "r = np.linspace(0, 1, 100)\n",
    "radial = zernike_radial(r[:,np.newaxis], basis.modes[:,0], basis.modes[:,1], 3)\n",
    "print(radial)"
   ]
  },
  {
   "cell_type": "code",
   "execution_count": null,
   "metadata": {},
   "outputs": [],
   "source": [
    "print(\"zernike_radial, 0th derivative\")\n",
    "%timeit _ = zernike_radial(r[:,np.newaxis], basis.modes[:,0], basis.modes[:,1], 0).block_until_ready()\n",
    "print(\"zernike_radial, 1st derivative\")\n",
    "%timeit _ = zernike_radial(r[:,np.newaxis], basis.modes[:,0], basis.modes[:,1], 1).block_until_ready()\n",
    "print(\"zernike_radial, 2nd derivative\")\n",
    "%timeit _ = zernike_radial(r[:,np.newaxis], basis.modes[:,0], basis.modes[:,1], 2).block_until_ready()\n",
    "print(\"zernike_radial, 3rd derivative\")\n",
    "%timeit _ = zernike_radial(r[:,np.newaxis], basis.modes[:,0], basis.modes[:,1], 3).block_until_ready()"
   ]
  },
  {
   "cell_type": "code",
   "execution_count": null,
   "metadata": {},
   "outputs": [],
   "source": []
  }
 ],
 "metadata": {
  "kernelspec": {
   "display_name": "desc-env",
   "language": "python",
   "name": "python3"
  },
  "language_info": {
   "codemirror_mode": {
    "name": "ipython",
    "version": 3
   },
   "file_extension": ".py",
   "mimetype": "text/x-python",
   "name": "python",
   "nbconvert_exporter": "python",
   "pygments_lexer": "ipython3",
   "version": "3.10.12"
  }
 },
 "nbformat": 4,
 "nbformat_minor": 2
}
