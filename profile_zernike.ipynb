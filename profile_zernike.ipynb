{
 "cells": [
  {
   "cell_type": "code",
   "execution_count": 1,
   "metadata": {},
   "outputs": [
    {
     "name": "stdout",
     "output_type": "stream",
     "text": [
      "DESC version 0.10.2+253.g43c94ecb.dirty,using JAX backend, jax version=0.4.19, jaxlib version=0.4.14, dtype=float64\n",
      "Using device: CPU, with 983.44 GB available memory\n"
     ]
    }
   ],
   "source": [
    "from zernike_algos import (\n",
    "    ZernikePolynomial,\n",
    "    zernike_radial,\n",
    "    #zernike_radial_dumb,\n",
    "    zernike_radial_optimized,\n",
    ")\n",
    "import numpy as np"
   ]
  },
  {
   "cell_type": "code",
   "execution_count": 2,
   "metadata": {},
   "outputs": [
    {
     "name": "stdout",
     "output_type": "stream",
     "text": [
      "[[ 0.00000000e+00  0.00000000e+00  4.00000000e+00 ...  0.00000000e+00\n",
      "   0.00000000e+00  0.00000000e+00]\n",
      " [ 0.00000000e+00  0.00000000e+00  4.00000000e+00 ...  3.63270541e-82\n",
      "  -1.75495958e-87  3.96896020e-93]\n",
      " [ 0.00000000e+00  0.00000000e+00  4.00000000e+00 ...  6.38627794e-69\n",
      "  -1.23452408e-73  1.11716298e-78]\n",
      " ...\n",
      " [ 0.00000000e+00  0.00000000e+00  4.00000000e+00 ...  2.87059206e+03\n",
      "   2.75975270e+03  9.19856303e+02]\n",
      " [ 0.00000000e+00  0.00000000e+00  4.00000000e+00 ...  1.10757887e+04\n",
      "   5.95138956e+03  1.50497185e+03]\n",
      " [ 0.00000000e+00  0.00000000e+00  4.00000000e+00 ...  3.00980000e+04\n",
      "   1.19560000e+04  2.45000000e+03]]\n"
     ]
    }
   ],
   "source": [
    "basis = ZernikePolynomial(L=50, M=50, spectral_indexing=\"ansi\", sym=\"cos\")\n",
    "r = np.linspace(0, 1, 100)\n",
    "radial = zernike_radial(r[:,np.newaxis], basis.modes[:,0], basis.modes[:,1], 2)\n",
    "print(radial)"
   ]
  },
  {
   "cell_type": "code",
   "execution_count": 3,
   "metadata": {},
   "outputs": [
    {
     "name": "stdout",
     "output_type": "stream",
     "text": [
      "zernike_radial, 0th derivative\n",
      "12.6 ms ± 37.6 µs per loop (mean ± std. dev. of 7 runs, 100 loops each)\n",
      "zernike_radial, 1st derivative\n",
      "12.6 ms ± 13 µs per loop (mean ± std. dev. of 7 runs, 100 loops each)\n",
      "zernike_radial, 2nd derivative\n",
      "12.6 ms ± 19.3 µs per loop (mean ± std. dev. of 7 runs, 100 loops each)\n",
      "zernike_radial, 3rd derivative\n",
      "12.7 ms ± 159 µs per loop (mean ± std. dev. of 7 runs, 100 loops each)\n"
     ]
    }
   ],
   "source": [
    "print(\"zernike_radial, 0th derivative\")\n",
    "%timeit _ = zernike_radial(r[:,np.newaxis], basis.modes[:,0], basis.modes[:,1], 0).block_until_ready()\n",
    "print(\"zernike_radial, 1st derivative\")\n",
    "%timeit _ = zernike_radial(r[:,np.newaxis], basis.modes[:,0], basis.modes[:,1], 1).block_until_ready()\n",
    "print(\"zernike_radial, 2nd derivative\")\n",
    "%timeit _ = zernike_radial(r[:,np.newaxis], basis.modes[:,0], basis.modes[:,1], 2).block_until_ready()\n",
    "print(\"zernike_radial, 3rd derivative\")\n",
    "%timeit _ = zernike_radial(r[:,np.newaxis], basis.modes[:,0], basis.modes[:,1], 3).block_until_ready()"
   ]
  },
  {
   "cell_type": "code",
   "execution_count": 4,
   "metadata": {},
   "outputs": [
    {
     "name": "stdout",
     "output_type": "stream",
     "text": [
      "zernike_radial, 0th derivative\n",
      "3.69 ms ± 170 µs per loop (mean ± std. dev. of 7 runs, 1 loop each)\n",
      "zernike_radial, 1st derivative\n",
      "7.92 ms ± 183 µs per loop (mean ± std. dev. of 7 runs, 1 loop each)\n",
      "zernike_radial, 2nd derivative\n",
      "10.9 ms ± 214 µs per loop (mean ± std. dev. of 7 runs, 1 loop each)\n",
      "zernike_radial, 3rd derivative\n",
      "14.8 ms ± 449 µs per loop (mean ± std. dev. of 7 runs, 1 loop each)\n"
     ]
    }
   ],
   "source": [
    "print(\"zernike_radial, 0th derivative\")\n",
    "%timeit _ = zernike_radial_optimized(r[:,np.newaxis], basis.modes[:,0], basis.modes[:,1], 0).block_until_ready()\n",
    "print(\"zernike_radial, 1st derivative\")\n",
    "%timeit _ = zernike_radial_optimized(r[:,np.newaxis], basis.modes[:,0], basis.modes[:,1], 1).block_until_ready()\n",
    "print(\"zernike_radial, 2nd derivative\")\n",
    "%timeit _ = zernike_radial_optimized(r[:,np.newaxis], basis.modes[:,0], basis.modes[:,1], 2).block_until_ready()\n",
    "print(\"zernike_radial, 3rd derivative\")\n",
    "%timeit _ = zernike_radial_optimized(r[:,np.newaxis], basis.modes[:,0], basis.modes[:,1], 3).block_until_ready()"
   ]
  },
  {
   "cell_type": "code",
   "execution_count": null,
   "metadata": {},
   "outputs": [],
   "source": []
  }
 ],
 "metadata": {
  "kernelspec": {
   "display_name": "desc-env2 [~/.conda/envs/desc-env2/]",
   "language": "python",
   "name": "conda_desc-env2"
  },
  "language_info": {
   "codemirror_mode": {
    "name": "ipython",
    "version": 3
   },
   "file_extension": ".py",
   "mimetype": "text/x-python",
   "name": "python",
   "nbconvert_exporter": "python",
   "pygments_lexer": "ipython3",
   "version": "3.11.6"
  }
 },
 "nbformat": 4,
 "nbformat_minor": 2
}
