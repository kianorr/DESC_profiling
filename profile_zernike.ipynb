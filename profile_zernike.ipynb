{
 "cells": [
  {
   "cell_type": "code",
   "execution_count": 1,
   "metadata": {},
   "outputs": [],
   "source": [
    "from zernike_algos import (\n",
    "    ZernikePolynomial,\n",
    "    zernike_radial,\n",
    "    zernike_radial_optimized,\n",
    ")\n",
    "import numpy as np"
   ]
  },
  {
   "cell_type": "code",
   "execution_count": 2,
   "metadata": {},
   "outputs": [
    {
     "name": "stderr",
     "output_type": "stream",
     "text": [
      "No GPU/TPU found, falling back to CPU. (Set TF_CPP_MIN_LOG_LEVEL=0 and rerun for more info.)\n"
     ]
    },
    {
     "name": "stdout",
     "output_type": "stream",
     "text": [
      "[[      0.          0.         -0.    ...       0.         -0.\n",
      "        0.   ]\n",
      " [      0.          0.         -0.    ...       0.         -0.\n",
      "        0.   ]\n",
      " [      0.          0.         -0.    ...       0.         -0.\n",
      "        0.   ]\n",
      " ...\n",
      " [      0.          0.         -0.    ...  493186.38   223447.05\n",
      "    45063.434]\n",
      " [      0.          0.         -0.    ... 1221495.2    428588.47\n",
      "    72975.74 ]\n",
      " [      0.          0.         -0.    ... 2717073.     794973.44\n",
      "   117600.   ]]\n"
     ]
    }
   ],
   "source": [
    "basis = ZernikePolynomial(L=50, M=50, spectral_indexing=\"ansi\", sym=\"cos\")\n",
    "r = np.linspace(0, 1, 100)\n",
    "radial = zernike_radial(r[:,np.newaxis], basis.modes[:,0], basis.modes[:,1], 3)\n",
    "print(radial)"
   ]
  },
  {
   "cell_type": "code",
   "execution_count": 3,
   "metadata": {},
   "outputs": [
    {
     "name": "stdout",
     "output_type": "stream",
     "text": [
      "zernike_radial, 0th derivative\n",
      "1.32 ms ± 8.45 µs per loop (mean ± std. dev. of 7 runs, 1,000 loops each)\n",
      "zernike_radial, 1st derivative\n",
      "2.77 ms ± 150 µs per loop (mean ± std. dev. of 7 runs, 1 loop each)\n",
      "zernike_radial, 2nd derivative\n",
      "3.94 ms ± 146 µs per loop (mean ± std. dev. of 7 runs, 1 loop each)\n",
      "zernike_radial, 3rd derivative\n",
      "4.87 ms ± 15.3 µs per loop (mean ± std. dev. of 7 runs, 100 loops each)\n"
     ]
    }
   ],
   "source": [
    "print(\"zernike_radial, 0th derivative\")\n",
    "%timeit _ = zernike_radial(r[:,np.newaxis], basis.modes[:,0], basis.modes[:,1], 0).block_until_ready()\n",
    "print(\"zernike_radial, 1st derivative\")\n",
    "%timeit _ = zernike_radial(r[:,np.newaxis], basis.modes[:,0], basis.modes[:,1], 1).block_until_ready()\n",
    "print(\"zernike_radial, 2nd derivative\")\n",
    "%timeit _ = zernike_radial(r[:,np.newaxis], basis.modes[:,0], basis.modes[:,1], 2).block_until_ready()\n",
    "print(\"zernike_radial, 3rd derivative\")\n",
    "%timeit _ = zernike_radial(r[:,np.newaxis], basis.modes[:,0], basis.modes[:,1], 3).block_until_ready()"
   ]
  },
  {
   "cell_type": "code",
   "execution_count": null,
   "metadata": {},
   "outputs": [],
   "source": []
  }
 ],
 "metadata": {
  "kernelspec": {
   "display_name": "desc-env",
   "language": "python",
   "name": "python3"
  },
  "language_info": {
   "codemirror_mode": {
    "name": "ipython",
    "version": 3
   },
   "file_extension": ".py",
   "mimetype": "text/x-python",
   "name": "python",
   "nbconvert_exporter": "python",
   "pygments_lexer": "ipython3",
   "version": "3.10.12"
  }
 },
 "nbformat": 4,
 "nbformat_minor": 2
}
